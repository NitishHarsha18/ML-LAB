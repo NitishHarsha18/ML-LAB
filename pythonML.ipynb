{
  "nbformat": 4,
  "nbformat_minor": 0,
  "metadata": {
    "colab": {
      "name": "pythonML.ipynb",
      "provenance": [],
      "authorship_tag": "ABX9TyP7+ADunv6jq7NbJlRbo7Pc",
      "include_colab_link": true
    },
    "kernelspec": {
      "name": "python3",
      "display_name": "Python 3"
    },
    "language_info": {
      "name": "python"
    }
  },
  "cells": [
    {
      "cell_type": "markdown",
      "metadata": {
        "id": "view-in-github",
        "colab_type": "text"
      },
      "source": [
        "<a href=\"https://colab.research.google.com/github/NitishHarsha18/ML-LAB/blob/main/pythonML.ipynb\" target=\"_parent\"><img src=\"https://colab.research.google.com/assets/colab-badge.svg\" alt=\"Open In Colab\"/></a>"
      ]
    },
    {
      "cell_type": "code",
      "metadata": {
        "colab": {
          "base_uri": "https://localhost:8080/"
        },
        "id": "MHAOGfWk0FzS",
        "outputId": "6a0eb2bb-813d-4848-e2de-ca295cad6e64"
      },
      "source": [
        "a=3\n",
        "a"
      ],
      "execution_count": null,
      "outputs": [
        {
          "output_type": "execute_result",
          "data": {
            "text/plain": [
              "3"
            ]
          },
          "metadata": {},
          "execution_count": 2
        }
      ]
    },
    {
      "cell_type": "code",
      "metadata": {
        "colab": {
          "base_uri": "https://localhost:8080/"
        },
        "id": "4BnkKKvn0Rm3",
        "outputId": "e4ef552b-83cf-48b4-863c-2cbdf3c267a8"
      },
      "source": [
        "a+3"
      ],
      "execution_count": null,
      "outputs": [
        {
          "output_type": "execute_result",
          "data": {
            "text/plain": [
              "6"
            ]
          },
          "metadata": {},
          "execution_count": 3
        }
      ]
    },
    {
      "cell_type": "code",
      "metadata": {
        "colab": {
          "base_uri": "https://localhost:8080/"
        },
        "id": "NptAJLOj0VWl",
        "outputId": "5b117bab-bc95-4e56-8bab-85e719bd5278"
      },
      "source": [
        "b=10\n",
        "a+b*2"
      ],
      "execution_count": null,
      "outputs": [
        {
          "output_type": "execute_result",
          "data": {
            "text/plain": [
              "23"
            ]
          },
          "metadata": {},
          "execution_count": 4
        }
      ]
    },
    {
      "cell_type": "code",
      "metadata": {
        "colab": {
          "base_uri": "https://localhost:8080/"
        },
        "id": "_yKBoqAP0ZTC",
        "outputId": "87911d42-1af6-4651-bc2b-32f936c86f61"
      },
      "source": [
        "nh=20\n",
        "nh*4+2"
      ],
      "execution_count": null,
      "outputs": [
        {
          "output_type": "execute_result",
          "data": {
            "text/plain": [
              "82"
            ]
          },
          "metadata": {},
          "execution_count": 7
        }
      ]
    },
    {
      "cell_type": "code",
      "metadata": {
        "colab": {
          "base_uri": "https://localhost:8080/"
        },
        "id": "9DA8vRP00s0b",
        "outputId": "c31783ea-ec53-4110-9128-59d52ec06c3e"
      },
      "source": [
        "nh**3"
      ],
      "execution_count": null,
      "outputs": [
        {
          "output_type": "execute_result",
          "data": {
            "text/plain": [
              "8000"
            ]
          },
          "metadata": {},
          "execution_count": 8
        }
      ]
    },
    {
      "cell_type": "code",
      "metadata": {
        "colab": {
          "base_uri": "https://localhost:8080/"
        },
        "id": "8uoTsxA60vsj",
        "outputId": "f37be69d-9dc1-4a20-d09f-d679c8eb0977"
      },
      "source": [
        "nh\n",
        "nh**4"
      ],
      "execution_count": null,
      "outputs": [
        {
          "output_type": "execute_result",
          "data": {
            "text/plain": [
              "160000"
            ]
          },
          "metadata": {},
          "execution_count": 9
        }
      ]
    },
    {
      "cell_type": "code",
      "metadata": {
        "colab": {
          "base_uri": "https://localhost:8080/"
        },
        "id": "JPor8sDy0zFe",
        "outputId": "5462d589-7fcd-4161-d2a5-10e080740c0d"
      },
      "source": [
        "print(nh)\n",
        "print(nh**4)"
      ],
      "execution_count": null,
      "outputs": [
        {
          "output_type": "stream",
          "text": [
            "20\n",
            "160000\n"
          ],
          "name": "stdout"
        }
      ]
    },
    {
      "cell_type": "code",
      "metadata": {
        "colab": {
          "base_uri": "https://localhost:8080/"
        },
        "id": "aRFcEite0438",
        "outputId": "28f758bf-021f-405f-b9cc-68411f0f0fa1"
      },
      "source": [
        "greeting='hello my name is'\n",
        "print(greeting)"
      ],
      "execution_count": null,
      "outputs": [
        {
          "output_type": "stream",
          "text": [
            "hello my name is\n"
          ],
          "name": "stdout"
        }
      ]
    },
    {
      "cell_type": "code",
      "metadata": {
        "colab": {
          "base_uri": "https://localhost:8080/"
        },
        "id": "OJLBI2o309w8",
        "outputId": "e3a2d5ed-a791-4ff3-ea9e-239482983e70"
      },
      "source": [
        "greeting='hello my name is'\n",
        "name='nh'\n",
        "print(greeting,name)"
      ],
      "execution_count": null,
      "outputs": [
        {
          "output_type": "stream",
          "text": [
            "hello my name is nh\n"
          ],
          "name": "stdout"
        }
      ]
    },
    {
      "cell_type": "code",
      "metadata": {
        "colab": {
          "base_uri": "https://localhost:8080/"
        },
        "id": "_Yg_AvOi1CJ8",
        "outputId": "beb72a64-d6cc-41ad-a726-01e6001dbc52"
      },
      "source": [
        "greeting='hello my name is'\n",
        "name='nh'\n",
        "print(greeting+name)\n"
      ],
      "execution_count": null,
      "outputs": [
        {
          "output_type": "stream",
          "text": [
            "hello my name isnh\n"
          ],
          "name": "stdout"
        }
      ]
    },
    {
      "cell_type": "code",
      "metadata": {
        "colab": {
          "base_uri": "https://localhost:8080/"
        },
        "id": "hRK7OHRE1L1H",
        "outputId": "6bfdf382-6331-49cd-f27d-7c39e39685f8"
      },
      "source": [
        "greeting='hello my name is'\n",
        "name='nh'\n",
        "age='10'\n",
        "print(greeting,name,'i am ',age,'years old')"
      ],
      "execution_count": null,
      "outputs": [
        {
          "output_type": "stream",
          "text": [
            "hello my name is nh i am  10 years old\n"
          ],
          "name": "stdout"
        }
      ]
    },
    {
      "cell_type": "code",
      "metadata": {
        "colab": {
          "base_uri": "https://localhost:8080/"
        },
        "id": "8rtGuBPK1RE0",
        "outputId": "7fbd150d-6c71-466b-d825-614bf1c81103"
      },
      "source": [
        "list1=[1,2,3,4,5,5,3]\n",
        "print(list1)"
      ],
      "execution_count": null,
      "outputs": [
        {
          "output_type": "stream",
          "text": [
            "[1, 2, 3, 4, 5, 5, 3]\n"
          ],
          "name": "stdout"
        }
      ]
    },
    {
      "cell_type": "code",
      "metadata": {
        "colab": {
          "base_uri": "https://localhost:8080/"
        },
        "id": "jt3ZVQJ21YLz",
        "outputId": "3d2bc513-20d8-4f77-84cf-465207495e96"
      },
      "source": [
        "abs(-5)"
      ],
      "execution_count": null,
      "outputs": [
        {
          "output_type": "execute_result",
          "data": {
            "text/plain": [
              "5"
            ]
          },
          "metadata": {},
          "execution_count": 16
        }
      ]
    },
    {
      "cell_type": "markdown",
      "metadata": {
        "id": "Eem41sQZ1rC3"
      },
      "source": [
        "//for getting the average of the numbers as the mean function exists in numpy package we import numpy package"
      ]
    },
    {
      "cell_type": "code",
      "metadata": {
        "colab": {
          "base_uri": "https://localhost:8080/"
        },
        "id": "SVXYYVu_1tML",
        "outputId": "c3ae8e5e-243f-4a89-cbcb-15a3e9bc409e"
      },
      "source": [
        "import numpy as np\n",
        "\n",
        "print(np.mean(list1))\n",
        "np.sqrt(25)"
      ],
      "execution_count": null,
      "outputs": [
        {
          "output_type": "stream",
          "text": [
            "3.2857142857142856\n"
          ],
          "name": "stdout"
        },
        {
          "output_type": "execute_result",
          "data": {
            "text/plain": [
              "5.0"
            ]
          },
          "metadata": {},
          "execution_count": 17
        }
      ]
    },
    {
      "cell_type": "markdown",
      "metadata": {
        "id": "LzxNbyn11z4e"
      },
      "source": [
        "using the linspace function in numpy is used to give the required number of numbers in a particular range"
      ]
    },
    {
      "cell_type": "code",
      "metadata": {
        "colab": {
          "base_uri": "https://localhost:8080/"
        },
        "id": "Kak9MgIW100f",
        "outputId": "d2aee65b-ae1d-445b-84f9-ed6f269e5a23"
      },
      "source": [
        "np.linspace(1,10,7)\n",
        "edith=np.linspace(1,10,15)\n",
        "edith+2"
      ],
      "execution_count": null,
      "outputs": [
        {
          "output_type": "execute_result",
          "data": {
            "text/plain": [
              "array([ 3.        ,  3.64285714,  4.28571429,  4.92857143,  5.57142857,\n",
              "        6.21428571,  6.85714286,  7.5       ,  8.14285714,  8.78571429,\n",
              "        9.42857143, 10.07142857, 10.71428571, 11.35714286, 12.        ])"
            ]
          },
          "metadata": {},
          "execution_count": 18
        }
      ]
    },
    {
      "cell_type": "code",
      "metadata": {
        "colab": {
          "base_uri": "https://localhost:8080/"
        },
        "id": "QWQOb1xN16uF",
        "outputId": "5e283105-524d-45fe-eed5-c65af069255a"
      },
      "source": [
        "np.linspace(4,100,15)"
      ],
      "execution_count": null,
      "outputs": [
        {
          "output_type": "execute_result",
          "data": {
            "text/plain": [
              "array([  4.        ,  10.85714286,  17.71428571,  24.57142857,\n",
              "        31.42857143,  38.28571429,  45.14285714,  52.        ,\n",
              "        58.85714286,  65.71428571,  72.57142857,  79.42857143,\n",
              "        86.28571429,  93.14285714, 100.        ])"
            ]
          },
          "metadata": {},
          "execution_count": 19
        }
      ]
    },
    {
      "cell_type": "code",
      "metadata": {
        "colab": {
          "base_uri": "https://localhost:8080/"
        },
        "id": "i9rxagGz194A",
        "outputId": "552fd270-bb0e-4f69-cec3-5a507d94b43d"
      },
      "source": [
        "np.linspace(4,100,15,dtype=int)"
      ],
      "execution_count": null,
      "outputs": [
        {
          "output_type": "execute_result",
          "data": {
            "text/plain": [
              "array([  4,  10,  17,  24,  31,  38,  45,  52,  58,  65,  72,  79,  86,\n",
              "        93, 100])"
            ]
          },
          "metadata": {},
          "execution_count": 20
        }
      ]
    },
    {
      "cell_type": "code",
      "metadata": {
        "colab": {
          "base_uri": "https://localhost:8080/"
        },
        "id": "D7i4UX9B2AXI",
        "outputId": "dee57ac9-c4e9-4ee1-b833-af1e8e7cc659"
      },
      "source": [
        "np.sqrt(np.linspace(4,100,15,dtype=int))"
      ],
      "execution_count": null,
      "outputs": [
        {
          "output_type": "execute_result",
          "data": {
            "text/plain": [
              "array([ 2.        ,  3.16227766,  4.12310563,  4.89897949,  5.56776436,\n",
              "        6.164414  ,  6.70820393,  7.21110255,  7.61577311,  8.06225775,\n",
              "        8.48528137,  8.88819442,  9.2736185 ,  9.64365076, 10.        ])"
            ]
          },
          "metadata": {},
          "execution_count": 21
        }
      ]
    },
    {
      "cell_type": "code",
      "metadata": {
        "colab": {
          "base_uri": "https://localhost:8080/",
          "height": 282
        },
        "id": "MjaPuqvq2B6O",
        "outputId": "a428c7e0-dd07-448b-c0f2-ea629f7a7b7d"
      },
      "source": [
        "import matplotlib.pyplot as plt\n",
        "import numpy as np\n",
        "plt.plot(35,4,'.')"
      ],
      "execution_count": null,
      "outputs": [
        {
          "output_type": "execute_result",
          "data": {
            "text/plain": [
              "[<matplotlib.lines.Line2D at 0x7f2fce46d490>]"
            ]
          },
          "metadata": {},
          "execution_count": 22
        },
        {
          "output_type": "display_data",
          "data": {
            "image/png": "[encoded data removed]",
            "text/plain": [
              "<Figure size 432x288 with 1 Axes>"
            ]
          },
          "metadata": {
            "needs_background": "light"
          }
        }
      ]
    },
    {
      "cell_type": "code",
      "metadata": {
        "colab": {
          "base_uri": "https://localhost:8080/",
          "height": 265
        },
        "id": "0HVXcuUf2GJs",
        "outputId": "f381ae86-18fd-4a95-8dab-848cc884b563"
      },
      "source": [
        "import matplotlib.pyplot as plt\n",
        "import numpy as np\n",
        "plt.plot(35,4,'r.')\n",
        "plt.show()"
      ],
      "execution_count": null,
      "outputs": [
        {
          "output_type": "display_data",
          "data": {
            "image/png": "[encoded data removed]",
            "text/plain": [
              "<Figure size 432x288 with 1 Axes>"
            ]
          },
          "metadata": {
            "needs_background": "light"
          }
        }
      ]
    },
    {
      "cell_type": "code",
      "metadata": {
        "colab": {
          "base_uri": "https://localhost:8080/",
          "height": 298
        },
        "id": "jjjGXAdM2JPC",
        "outputId": "ff3b4c1a-7050-4ed5-c839-9d8382fa3cc5"
      },
      "source": [
        "x=np.arange(-9,10)#python ignores the second numbers in the range\n",
        "print(x)\n",
        "y=x**2\n",
        "plt.plot(x,y/2,'bs')\n",
        "plt.plot(x,y,'r')"
      ],
      "execution_count": null,
      "outputs": [
        {
          "output_type": "stream",
          "text": [
            "[-9 -8 -7 -6 -5 -4 -3 -2 -1  0  1  2  3  4  5  6  7  8  9]\n"
          ],
          "name": "stdout"
        },
        {
          "output_type": "execute_result",
          "data": {
            "text/plain": [
              "[<matplotlib.lines.Line2D at 0x7f2fce9d6710>]"
            ]
          },
          "metadata": {},
          "execution_count": 24
        },
        {
          "output_type": "display_data",
          "data": {
            "image/png": "[encoded data removed]",
            "text/plain": [
              "<Figure size 432x288 with 1 Axes>"
            ]
          },
          "metadata": {
            "needs_background": "light"
          }
        }
      ]
    },
    {
      "cell_type": "code",
      "metadata": {
        "colab": {
          "base_uri": "https://localhost:8080/",
          "height": 282
        },
        "id": "skDwSTGN2MK0",
        "outputId": "880da2f6-01de-4d35-a0f8-496cb12dc873"
      },
      "source": [
        "plt.plot([0,3],[-1,1])#starting and stop points in x and y axes fror a line  "
      ],
      "execution_count": null,
      "outputs": [
        {
          "output_type": "execute_result",
          "data": {
            "text/plain": [
              "[<matplotlib.lines.Line2D at 0x7f2fce4f39d0>]"
            ]
          },
          "metadata": {},
          "execution_count": 25
        },
        {
          "output_type": "display_data",
          "data": {
            "image/png": "[encoded data removed]",
            "text/plain": [
              "<Figure size 432x288 with 1 Axes>"
            ]
          },
          "metadata": {
            "needs_background": "light"
          }
        }
      ]
    },
    {
      "cell_type": "code",
      "metadata": {
        "colab": {
          "base_uri": "https://localhost:8080/",
          "height": 265
        },
        "id": "BmiB1z9U2PQf",
        "outputId": "72caa4a4-a1ea-4034-9aed-24318cb0d415"
      },
      "source": [
        "plt.plot([0,3],[-1,1],label='1st line')\n",
        "plt.plot([3,7],[4,7],label='2nd line')\n",
        "plt.legend()\n",
        "plt.show()"
      ],
      "execution_count": null,
      "outputs": [
        {
          "output_type": "display_data",
          "data": {
            "image/png": "[encoded data removed]",
            "text/plain": [
              "<Figure size 432x288 with 1 Axes>"
            ]
          },
          "metadata": {
            "needs_background": "light"
          }
        }
      ]
    },
    {
      "cell_type": "code",
      "metadata": {
        "colab": {
          "base_uri": "https://localhost:8080/"
        },
        "id": "ZT-LWsB82SVS",
        "outputId": "3c297895-d5f9-420e-e378-76d969bd7ea8"
      },
      "source": [
        "m=np.random.randint(0,10,size=(4,5))#creates a 4 by 5 matrix with andom rumbers in the range of 0 to 10\n",
        "m"
      ],
      "execution_count": null,
      "outputs": [
        {
          "output_type": "execute_result",
          "data": {
            "text/plain": [
              "array([[1, 1, 9, 3, 9],\n",
              "       [5, 5, 1, 6, 2],\n",
              "       [8, 5, 5, 5, 0],\n",
              "       [4, 0, 2, 7, 4]])"
            ]
          },
          "metadata": {},
          "execution_count": 27
        }
      ]
    },
    {
      "cell_type": "code",
      "metadata": {
        "colab": {
          "base_uri": "https://localhost:8080/",
          "height": 269
        },
        "id": "Z1wDsdI72Unu",
        "outputId": "2a09d09a-184a-4a6a-f588-925bfa74887d"
      },
      "source": [
        "plt.imshow(m)#show the number with the help of colours\n",
        "plt.show()"
      ],
      "execution_count": null,
      "outputs": [
        {
          "output_type": "display_data",
          "data": {
            "image/png": "[encoded data removed]",
            "text/plain": [
              "<Figure size 432x288 with 1 Axes>"
            ]
          },
          "metadata": {
            "needs_background": "light"
          }
        }
      ]
    },
    {
      "cell_type": "code",
      "metadata": {
        "colab": {
          "base_uri": "https://localhost:8080/",
          "height": 269
        },
        "id": "yI5P2XJa2XD1",
        "outputId": "cc3a4fc3-8b5e-473e-9b47-8e153c252f7e"
      },
      "source": [
        "plt.imshow(m)#drawing the red lines to the opposite corners \n",
        "plt.plot([-0.5,4.5],[-0.5,3.5],'r')\n",
        "plt.plot([3.5,-0.5],[-0.5,3.5],'r')\n",
        "plt.show()"
      ],
      "execution_count": null,
      "outputs": [
        {
          "output_type": "display_data",
          "data": {
            "image/png": "[encoded data removed]",
            "text/plain": [
              "<Figure size 432x288 with 1 Axes>"
            ]
          },
          "metadata": {
            "needs_background": "light"
          }
        }
      ]
    },
    {
      "cell_type": "code",
      "metadata": {
        "colab": {
          "base_uri": "https://localhost:8080/"
        },
        "id": "-dHlnxPy2ZNT",
        "outputId": "963e8f97-ad3f-4a0b-9bd2-0afa5b7220ac"
      },
      "source": [
        "#appends the vec s times to vec\n",
        "vec=[3,4,5,2]\n",
        "s=2\n",
        "vec*s"
      ],
      "execution_count": null,
      "outputs": [
        {
          "output_type": "execute_result",
          "data": {
            "text/plain": [
              "[3, 4, 5, 2, 3, 4, 5, 2]"
            ]
          },
          "metadata": {},
          "execution_count": 30
        }
      ]
    },
    {
      "cell_type": "code",
      "metadata": {
        "colab": {
          "base_uri": "https://localhost:8080/"
        },
        "id": "jWn3N23I2a1-",
        "outputId": "3eb469f9-fb1a-48ba-815b-b2b4903557bc"
      },
      "source": [
        "#gives multiplication of the vector *scalar \n",
        "vec=np.array([3,4,5,2])\n",
        "s=3\n",
        "vec*s"
      ],
      "execution_count": null,
      "outputs": [
        {
          "output_type": "execute_result",
          "data": {
            "text/plain": [
              "array([ 9, 12, 15,  6])"
            ]
          },
          "metadata": {},
          "execution_count": 31
        }
      ]
    },
    {
      "cell_type": "code",
      "metadata": {
        "colab": {
          "base_uri": "https://localhost:8080/"
        },
        "id": "OMlddgY42eg4",
        "outputId": "a528348b-29c9-4706-c63b-b2d89de455c4"
      },
      "source": [
        "vec2d=np.array([1,2])\n",
        "s1=2\n",
        "s2=.5\n",
        "s3=-1\n",
        "vec2d[1]"
      ],
      "execution_count": null,
      "outputs": [
        {
          "output_type": "execute_result",
          "data": {
            "text/plain": [
              "2"
            ]
          },
          "metadata": {},
          "execution_count": 32
        }
      ]
    },
    {
      "cell_type": "code",
      "metadata": {
        "colab": {
          "base_uri": "https://localhost:8080/",
          "height": 286
        },
        "id": "Wg7HOqAJ2oCR",
        "outputId": "1685f8ca-6bf7-4d86-b57f-78a253d1770f"
      },
      "source": [
        "plt.plot([0,vec2d[0]],[0,vec2d[1]],'bs-')\n",
        "plt.plot([0,s1*vec2d[0]],[0,vec2d[1]],'r.--')\n",
        "plt.axis('square')\n",
        "plt.xlim([-4,4])\n",
        "plt.ylim([-4,4])\n",
        "plt.grid()\n",
        "plt.legend()\n",
        "plt.show()"
      ],
      "execution_count": null,
      "outputs": [
        {
          "output_type": "stream",
          "text": [
            "No handles with labels found to put in legend.\n"
          ],
          "name": "stderr"
        },
        {
          "output_type": "display_data",
          "data": {
            "image/png": "[encoded data removed]",
            "text/plain": [
              "<Figure size 432x288 with 1 Axes>"
            ]
          },
          "metadata": {
            "needs_background": "light"
          }
        }
      ]
    },
    {
      "cell_type": "code",
      "metadata": {
        "colab": {
          "base_uri": "https://localhost:8080/"
        },
        "id": "4ltPfXbo2qm4",
        "outputId": "929c648d-4f08-42fd-94d2-c344f4297631"
      },
      "source": [
        "#np.dot(vector1,vector2) gives the dot product of the matrices\n",
        "v1=np.array([5,6,2])\n",
        "v2=np.array([3,0,5])\n",
        "np.dot(v1,v2)"
      ],
      "execution_count": null,
      "outputs": [
        {
          "output_type": "execute_result",
          "data": {
            "text/plain": [
              "25"
            ]
          },
          "metadata": {},
          "execution_count": 34
        }
      ]
    },
    {
      "cell_type": "code",
      "metadata": {
        "colab": {
          "base_uri": "https://localhost:8080/"
        },
        "id": "ABH61yxG2tBy",
        "outputId": "c7b23b1a-eab6-4878-f85f-6cc9052fe3a9"
      },
      "source": [
        "#here ifthe dot product of 2 non zero vectors is 0 then the both vectors are orthogonal to each other\n",
        "v3=np.array([-4,3,1])\n",
        "v5=np.array([2,3,-1])\n",
        "np.dot(v3,v5)"
      ],
      "execution_count": null,
      "outputs": [
        {
          "output_type": "execute_result",
          "data": {
            "text/plain": [
              "0"
            ]
          },
          "metadata": {},
          "execution_count": 35
        }
      ]
    },
    {
      "cell_type": "code",
      "metadata": {
        "colab": {
          "base_uri": "https://localhost:8080/"
        },
        "id": "urMBLiy32v6x",
        "outputId": "ffd46236-998b-44db-9893-d8a1d4811be6"
      },
      "source": [
        "#we get an identity matrix if we use eye() function\n",
        "np.eye(3)"
      ],
      "execution_count": null,
      "outputs": [
        {
          "output_type": "execute_result",
          "data": {
            "text/plain": [
              "array([[1., 0., 0.],\n",
              "       [0., 1., 0.],\n",
              "       [0., 0., 1.]])"
            ]
          },
          "metadata": {},
          "execution_count": 36
        }
      ]
    },
    {
      "cell_type": "code",
      "metadata": {
        "colab": {
          "base_uri": "https://localhost:8080/"
        },
        "id": "5KsbSVg52yDL",
        "outputId": "f55bc5fd-a4e8-4bb0-c5fa-b51f01032a90"
      },
      "source": [
        "#zeros()creates a zero matrix with m rows and n columns\n",
        "np.zeros((3,4))"
      ],
      "execution_count": null,
      "outputs": [
        {
          "output_type": "execute_result",
          "data": {
            "text/plain": [
              "array([[0., 0., 0., 0.],\n",
              "       [0., 0., 0., 0.],\n",
              "       [0., 0., 0., 0.]])"
            ]
          },
          "metadata": {},
          "execution_count": 37
        }
      ]
    },
    {
      "cell_type": "code",
      "metadata": {
        "colab": {
          "base_uri": "https://localhost:8080/"
        },
        "id": "vFnztMDX20jF",
        "outputId": "17474fc7-535c-4d98-8efe-65979c9faa33"
      },
      "source": [
        "#creates a matrix with m rows and n colums with specified value \n",
        "np.full((5,2),4)\n"
      ],
      "execution_count": null,
      "outputs": [
        {
          "output_type": "execute_result",
          "data": {
            "text/plain": [
              "array([[4, 4],\n",
              "       [4, 4],\n",
              "       [4, 4],\n",
              "       [4, 4],\n",
              "       [4, 4]])"
            ]
          },
          "metadata": {},
          "execution_count": 38
        }
      ]
    },
    {
      "cell_type": "code",
      "metadata": {
        "colab": {
          "base_uri": "https://localhost:8080/"
        },
        "id": "sj_vlB4X23kd",
        "outputId": "a283c498-14d6-4fd4-cdc3-2dc8fa85226a"
      },
      "source": [
        "#creating the a 3*3 matrix\n",
        "m1=np.array([[1,2,3],[4,5,6],[7,8,9]])\n",
        "print(m1)\n"
      ],
      "execution_count": null,
      "outputs": [
        {
          "output_type": "stream",
          "text": [
            "[[1 2 3]\n",
            " [4 5 6]\n",
            " [7 8 9]]\n"
          ],
          "name": "stdout"
        }
      ]
    },
    {
      "cell_type": "code",
      "metadata": {
        "colab": {
          "base_uri": "https://localhost:8080/"
        },
        "id": "tuP5wINS25JH",
        "outputId": "80212b52-b0b9-4dfe-df42-70692a45d953"
      },
      "source": [
        "# matrixname.T gives the transpose of the matrix\n",
        "v1=np.array([[2,3,-1],[4,2,6]])\n",
        "print(v1)\n",
        "print()\n",
        "print(v1.T)"
      ],
      "execution_count": null,
      "outputs": [
        {
          "output_type": "stream",
          "text": [
            "[[ 2  3 -1]\n",
            " [ 4  2  6]]\n",
            "\n",
            "[[ 2  4]\n",
            " [ 3  2]\n",
            " [-1  6]]\n"
          ],
          "name": "stdout"
        }
      ]
    },
    {
      "cell_type": "code",
      "metadata": {
        "colab": {
          "base_uri": "https://localhost:8080/"
        },
        "id": "egGt5pzg28Vc",
        "outputId": "4eed82d7-7b46-4700-8ad0-0a195665d424"
      },
      "source": [
        "m2=np.random.randn(3,3)\n",
        "print(m2)\n",
        "print()\n",
        "print(m2.T)"
      ],
      "execution_count": null,
      "outputs": [
        {
          "output_type": "stream",
          "text": [
            "[[ 1.4727791  -0.89774701 -1.10139471]\n",
            " [-0.72900212  1.07769413  0.49132577]\n",
            " [-0.05593604  1.25695739 -0.65216026]]\n",
            "\n",
            "[[ 1.4727791  -0.72900212 -0.05593604]\n",
            " [-0.89774701  1.07769413  1.25695739]\n",
            " [-1.10139471  0.49132577 -0.65216026]]\n"
          ],
          "name": "stdout"
        }
      ]
    },
    {
      "cell_type": "code",
      "metadata": {
        "colab": {
          "base_uri": "https://localhost:8080/"
        },
        "id": "UxBgQuxz2-QN",
        "outputId": "b7704237-8b9f-41aa-bd92-ea9ccc2ca42c"
      },
      "source": [
        "#TRANSPOSING THE 2 TIMES GIVE THE SAME MATRIX\n",
        "m2=np.random.randn(3,3)\n",
        "print(m2)\n",
        "print()\n",
        "print(m2.T.T)"
      ],
      "execution_count": null,
      "outputs": [
        {
          "output_type": "stream",
          "text": [
            "[[-0.34103695  0.71546669 -0.23067133]\n",
            " [ 0.92929472  0.86948247 -0.94802423]\n",
            " [-1.81326981 -0.57674342 -0.61880598]]\n",
            "\n",
            "[[-0.34103695  0.71546669 -0.23067133]\n",
            " [ 0.92929472  0.86948247 -0.94802423]\n",
            " [-1.81326981 -0.57674342 -0.61880598]]\n"
          ],
          "name": "stdout"
        }
      ]
    },
    {
      "cell_type": "code",
      "metadata": {
        "colab": {
          "base_uri": "https://localhost:8080/"
        },
        "id": "LVUbOcIM3ArR",
        "outputId": "83493e64-b64a-4c6e-e151-b494ec19cf63"
      },
      "source": [
        "#we can use matmul(matrix1,matrix2) to multiply matrices or matrix1@matrix2\n",
        "M1=np.random.randn(4,5)#4*5 matrix\n",
        "M2=np.random.randn(4,5)#4*5 matrix\n",
        "print(M1)\n",
        "print()\n",
        "print(M2)\n",
        "print()\n",
        "print(np.matmul(M1,M2.T))#4*5 *  5*4 gives 4*4\n",
        "print()\n",
        "print(M1@M2.T)\n",
        "print()\n",
        "print(np.matmul(M1,M2.T) - M1@M2.T)#to check whether both functions give same result or not"
      ],
      "execution_count": null,
      "outputs": [
        {
          "output_type": "stream",
          "text": [
            "[[-1.05771531 -1.01361726 -1.07339402 -1.86794594  0.3082719 ]\n",
            " [ 1.40584225  1.10529588 -1.73851366 -0.95527898  1.60658682]\n",
            " [-0.34458545 -0.10645767  0.94473072 -0.53165737 -1.57213712]\n",
            " [-0.71181797  0.43419615 -0.54928759 -0.18986018  0.77197834]]\n",
            "\n",
            "[[ 0.00615049 -0.64849733  1.41295254 -0.08886887  0.25108322]\n",
            " [ 1.53157258 -0.26824866 -0.24141231 -0.66498178  0.88601681]\n",
            " [ 0.52561793  0.66618726  1.05986534 -1.90438626  0.53920487]\n",
            " [-0.22331619 -0.33368102  0.74490099 -0.08236228  0.28724774]]\n",
            "\n",
            "[[-0.62242804  0.42634835  1.35464613  0.01725624]\n",
            " [-2.67629055  4.33505995  2.31817917 -1.43761674]\n",
            " [ 1.05428836 -1.76666758  0.91402329  0.40840094]\n",
            " [-0.85136691 -0.26382929  0.11076239 -0.15770105]]\n",
            "\n",
            "[[-0.62242804  0.42634835  1.35464613  0.01725624]\n",
            " [-2.67629055  4.33505995  2.31817917 -1.43761674]\n",
            " [ 1.05428836 -1.76666758  0.91402329  0.40840094]\n",
            " [-0.85136691 -0.26382929  0.11076239 -0.15770105]]\n",
            "\n",
            "[[0. 0. 0. 0.]\n",
            " [0. 0. 0. 0.]\n",
            " [0. 0. 0. 0.]\n",
            " [0. 0. 0. 0.]]\n"
          ],
          "name": "stdout"
        }
      ]
    },
    {
      "cell_type": "code",
      "metadata": {
        "colab": {
          "base_uri": "https://localhost:8080/"
        },
        "id": "mLjRvsQb3H5z",
        "outputId": "c1211187-78be-4385-91d7-6ecb613a6d96"
      },
      "source": [
        "#the linalg.inv() functions gives the inverse of the ,atrix as output\n",
        "A=np.random.randn(4,4)\n",
        "Ainv = np.linalg.inv(A)\n",
        "print(A)\n",
        "print()\n",
        "print(Ainv)"
      ],
      "execution_count": null,
      "outputs": [
        {
          "output_type": "stream",
          "text": [
            "[[ 0.46114509  0.20218797  0.58820279 -0.40751023]\n",
            " [-0.77427556  0.8288361  -2.50928088 -0.54764731]\n",
            " [ 0.1979895  -0.24127936  0.68444572 -1.9649397 ]\n",
            " [-0.32519573  1.28920816 -0.52176899 -0.92698553]]\n",
            "\n",
            "[[ 2.94350700e+00  8.14837920e-01 -3.42407133e-01 -1.04957804e+00]\n",
            " [ 4.17172254e-01 -1.63158019e-01 -3.91068171e-01  7.41949511e-01]\n",
            " [-7.65799778e-01 -6.74832451e-01  7.86254275e-02  5.68668207e-01]\n",
            " [-2.13848571e-02 -1.32925284e-01 -4.68015126e-01  1.22140261e-03]]\n"
          ],
          "name": "stdout"
        }
      ]
    },
    {
      "cell_type": "code",
      "metadata": {
        "colab": {
          "base_uri": "https://localhost:8080/",
          "height": 432
        },
        "id": "4pVuKvpF3Nhw",
        "outputId": "7df794a1-b979-4509-e8f9-f38b0655a2f6"
      },
      "source": [
        "fig,ax=plt.subplots(1,3,figsize=(9,7))\n",
        "ax[0].imshow(A)\n",
        "ax[0].set_title('A')\n",
        "ax[1].imshow(Ainv)\n",
        "ax[1].set_title('B')\n",
        "plt.show()"
      ],
      "execution_count": null,
      "outputs": [
        {
          "output_type": "display_data",
          "data": {
            "image/png": "[encoded data removed]",
            "text/plain": [
              "<Figure size 648x504 with 3 Axes>"
            ]
          },
          "metadata": {
            "needs_background": "light"
          }
        }
      ]
    }
  ]
}